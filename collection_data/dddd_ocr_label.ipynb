{
 "cells": [
  {
   "cell_type": "markdown",
   "metadata": {},
   "source": [
    "## 使用dddd_ocr进行初步标注"
   ]
  },
  {
   "cell_type": "code",
   "execution_count": null,
   "metadata": {},
   "outputs": [
    {
     "name": "stdout",
     "output_type": "stream",
     "text": [
      "欢迎使用ddddocr，本项目专注带动行业内卷，个人博客:wenanzhe.com\n",
      "训练数据支持来源于:http://146.56.204.113:19199/preview\n",
      "爬虫框架feapder可快速一键接入，快速开启爬虫之旅：https://github.com/Boris-code/feapder\n",
      "谷歌reCaptcha验证码 / hCaptcha验证码 / funCaptcha验证码商业级识别接口：https://yescaptcha.com/i/NSwk7i\n"
     ]
    }
   ],
   "source": [
    "import ddddocr\n",
    "\n",
    "ocr = ddddocr.DdddOcr()\n",
    "\n"
   ]
  },
  {
   "cell_type": "code",
   "execution_count": null,
   "metadata": {},
   "outputs": [],
   "source": [
    "import os\n",
    "\n",
    "def rename_file_with_result(file_path, result):\n",
    "    dir_name, file_name = os.path.split(file_path)\n",
    "    new_file_name = file_name.replace('image', result)\n",
    "    new_file_path = os.path.join(dir_name, new_file_name)\n",
    "    os.rename(file_path, new_file_path)\n",
    "    return new_file_path\n",
    "\n",
    "dir_name = '../data'\n",
    "# 获取当前目录下所有名称以 image 开头的文件\n",
    "files = [f for f in os.listdir(dir_name) if f.startswith('image')]\n",
    "\n",
    "# 逐个打印文件名\n",
    "for file in files:\n",
    "    path = dir_name +  \"/\" + file\n",
    "    image = open(path, \"rb\").read()\n",
    "    result = ocr.classification(image)\n",
    "    rename_file_with_result(path, result)\n",
    "    print(file, result)\n"
   ]
  },
  {
   "cell_type": "markdown",
   "metadata": {},
   "source": [
    "验证码错误率 16/282= 5.6%, 屏蔽输出结果为i j l 0 空五项后 错误率为 2/282 = 0.7%\n",
    "- 字符识别错误统计16个错误验证码出现18个字符错误\n",
    "    - l 识别为 i 3\n",
    "    - j 识别为 i 4\n",
    "    - O 识别为 0 6\n",
    "    - I 识别为 T 1\n",
    "    - j 识别为空 1\n",
    "    - l 识别为空 1\n",
    "    - k 识别为 l 1\n"
   ]
  }
 ],
 "metadata": {
  "kernelspec": {
   "display_name": "base",
   "language": "python",
   "name": "python3"
  },
  "language_info": {
   "codemirror_mode": {
    "name": "ipython",
    "version": 3
   },
   "file_extension": ".py",
   "mimetype": "text/x-python",
   "name": "python",
   "nbconvert_exporter": "python",
   "pygments_lexer": "ipython3",
   "version": "3.12.9"
  }
 },
 "nbformat": 4,
 "nbformat_minor": 2
}
